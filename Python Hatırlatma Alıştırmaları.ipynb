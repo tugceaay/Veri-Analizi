{
 "cells": [
  {
   "cell_type": "markdown",
   "metadata": {},
   "source": [
    "# Python Alıştırmalar"
   ]
  },
  {
   "cell_type": "markdown",
   "metadata": {},
   "source": [
    "1) 5 sayısının karesinin 3 ile bölümünden kalan kaçtır?"
   ]
  },
  {
   "cell_type": "code",
   "execution_count": 1,
   "metadata": {},
   "outputs": [
    {
     "data": {
      "text/plain": [
       "1"
      ]
     },
     "execution_count": 1,
     "metadata": {},
     "output_type": "execute_result"
    }
   ],
   "source": [
    "a = (5**2) % 3\n",
    "a"
   ]
  },
  {
   "cell_type": "markdown",
   "metadata": {},
   "source": [
    "2) bölge = 'anadolu'\n",
    "\n",
    "2-a) bölge değişkeni üzerinde parçalama yaparak 'ana' hece grubunu ayıralım.\n",
    "\n",
    "2-b) İlk ve Son harfi büyük yapalım.\n"
   ]
  },
  {
   "cell_type": "code",
   "execution_count": 5,
   "metadata": {},
   "outputs": [
    {
     "data": {
      "text/plain": [
       "'ana'"
      ]
     },
     "execution_count": 5,
     "metadata": {},
     "output_type": "execute_result"
    }
   ],
   "source": [
    "bölge = 'anadolu'\n",
    "bölge[0:3]"
   ]
  },
  {
   "cell_type": "code",
   "execution_count": 10,
   "metadata": {},
   "outputs": [
    {
     "data": {
      "text/plain": [
       "'AnadolU'"
      ]
     },
     "execution_count": 10,
     "metadata": {},
     "output_type": "execute_result"
    }
   ],
   "source": [
    "bölge[0].upper()+bölge[1:-1]+bölge[-1].upper()\n"
   ]
  },
  {
   "cell_type": "markdown",
   "metadata": {},
   "source": [
    "3) x = \"Bursa, İstanbul, Eskişehir, Ankara büyük şehirlerdendir.\" \n",
    "\n",
    "split kullanarak list haline çevirin."
   ]
  },
  {
   "cell_type": "code",
   "execution_count": 12,
   "metadata": {},
   "outputs": [
    {
     "data": {
      "text/plain": [
       "['Bursa', ' İstanbul', ' Eskişehir', ' Ankara büyük şehirlerdendir.']"
      ]
     },
     "execution_count": 12,
     "metadata": {},
     "output_type": "execute_result"
    }
   ],
   "source": [
    "x = \"Bursa, İstanbul, Eskişehir, Ankara büyük şehirlerdendir.\" \n",
    "x.split(\",\")"
   ]
  },
  {
   "cell_type": "markdown",
   "metadata": {},
   "source": [
    "4) ülke = \"Çin\"\n",
    "\n",
    "   zaman = \"Aralık\"\n",
    "   \n",
    "   virus = \"Korona\"\n",
    "   \n",
    "formatlayalım."
   ]
  },
  {
   "cell_type": "code",
   "execution_count": 15,
   "metadata": {},
   "outputs": [
    {
     "name": "stdout",
     "output_type": "stream",
     "text": [
      "Çin'de Aralık ayında görülen virüsün adı Korona olarak belirlendi\n"
     ]
    }
   ],
   "source": [
    "ülke = \"Çin\"\n",
    "\n",
    "zaman = \"Aralık\"\n",
    "\n",
    "virus = \"Korona\"\n",
    "\n",
    "print(\"{}'de {} ayında görülen virüsün adı {} olarak belirlendi\".format(ülke,zaman,virus))"
   ]
  },
  {
   "cell_type": "markdown",
   "metadata": {},
   "source": [
    "5) b = [14, 2, 9, 8, 12, 65, 64]\n",
    "\n",
    "veilen değerleri bulalım : [2, 9, 8, 12] ve [64]\n",
    "    \n",
    "33 değerini lst sonuna ekleyin\n",
    "\n",
    "İlk değeri çıkartın.\n",
    "\n",
    "Sıralayın."
   ]
  },
  {
   "cell_type": "code",
   "execution_count": 45,
   "metadata": {},
   "outputs": [
    {
     "data": {
      "text/plain": [
       "[2, 9, 8, 12]"
      ]
     },
     "execution_count": 45,
     "metadata": {},
     "output_type": "execute_result"
    }
   ],
   "source": [
    "b = [14, 2, 9, 8, 12, 65, 64]\n",
    "b[1:5]"
   ]
  },
  {
   "cell_type": "code",
   "execution_count": 46,
   "metadata": {},
   "outputs": [
    {
     "data": {
      "text/plain": [
       "64"
      ]
     },
     "execution_count": 46,
     "metadata": {},
     "output_type": "execute_result"
    }
   ],
   "source": [
    "b[-1]"
   ]
  },
  {
   "cell_type": "code",
   "execution_count": 47,
   "metadata": {},
   "outputs": [
    {
     "data": {
      "text/plain": [
       "[14, 2, 9, 8, 12, 65, 64, 33]"
      ]
     },
     "execution_count": 47,
     "metadata": {},
     "output_type": "execute_result"
    }
   ],
   "source": [
    "b.append(33)\n",
    "b"
   ]
  },
  {
   "cell_type": "code",
   "execution_count": 48,
   "metadata": {},
   "outputs": [
    {
     "data": {
      "text/plain": [
       "[2, 9, 8, 12, 65, 64, 33]"
      ]
     },
     "execution_count": 48,
     "metadata": {},
     "output_type": "execute_result"
    }
   ],
   "source": [
    "b.pop(0)\n",
    "b"
   ]
  },
  {
   "cell_type": "code",
   "execution_count": 50,
   "metadata": {},
   "outputs": [
    {
     "data": {
      "text/plain": [
       "[2, 8, 9, 12, 33, 64, 65]"
      ]
     },
     "execution_count": 50,
     "metadata": {},
     "output_type": "execute_result"
    }
   ],
   "source": [
    "b.sort()\n",
    "b"
   ]
  },
  {
   "cell_type": "markdown",
   "metadata": {},
   "source": [
    "6) Size bir d dict verilmiştir. \"selam\" kelimesini yazdıralım.\n",
    "\n",
    "d = {'k1':[1, {'hayvanlar':['kedi','köpek','böcek',{'şaşırt':[1,2,3,'selam']}]},2,3],'k2':[1,2]}"
   ]
  },
  {
   "cell_type": "code",
   "execution_count": 53,
   "metadata": {},
   "outputs": [
    {
     "data": {
      "text/plain": [
       "'selam'"
      ]
     },
     "execution_count": 53,
     "metadata": {},
     "output_type": "execute_result"
    }
   ],
   "source": [
    "d = {'k1':[1, {'hayvanlar':['kedi','köpek','böcek',{'şaşırt':[1,2,3,'selam']}]},2,3],'k2':[1,2]}\n",
    "d['k1'][1]['hayvanlar'][3]['şaşırt'][-1]"
   ]
  },
  {
   "cell_type": "markdown",
   "metadata": {},
   "source": [
    "7) cumle = \"O zaman başka bir gün buluşalım.\"\n",
    "\n",
    "7-a) for döngüsü ile tüm harfleri yazdıralım.\n",
    "\n",
    "7-b) Yine for döngüşü ile harfimiz 'a' ise 'A' ile değiştirelim.\n",
    "\n",
    "7-c) 7-bde yapılan işlemi fonksiyona çevirip bu fonksiyonu çağıralım."
   ]
  },
  {
   "cell_type": "code",
   "execution_count": 56,
   "metadata": {},
   "outputs": [
    {
     "name": "stdout",
     "output_type": "stream",
     "text": [
      "O\n",
      " \n",
      "z\n",
      "a\n",
      "m\n",
      "a\n",
      "n\n",
      " \n",
      "b\n",
      "a\n",
      "ş\n",
      "k\n",
      "a\n",
      " \n",
      "b\n",
      "i\n",
      "r\n",
      " \n",
      "g\n",
      "ü\n",
      "n\n",
      " \n",
      "b\n",
      "u\n",
      "l\n",
      "u\n",
      "ş\n",
      "a\n",
      "l\n",
      "ı\n",
      "m\n",
      ".\n"
     ]
    }
   ],
   "source": [
    "cumle = \"O zaman başka bir gün buluşalım.\"\n",
    "for i in cumle:\n",
    "    print(i)\n"
   ]
  },
  {
   "cell_type": "code",
   "execution_count": 59,
   "metadata": {},
   "outputs": [
    {
     "name": "stdout",
     "output_type": "stream",
     "text": [
      "O\n",
      " \n",
      "z\n",
      "A\n",
      "m\n",
      "A\n",
      "n\n",
      " \n",
      "b\n",
      "A\n",
      "ş\n",
      "k\n",
      "A\n",
      " \n",
      "b\n",
      "i\n",
      "r\n",
      " \n",
      "g\n",
      "ü\n",
      "n\n",
      " \n",
      "b\n",
      "u\n",
      "l\n",
      "u\n",
      "ş\n",
      "A\n",
      "l\n",
      "ı\n",
      "m\n",
      ".\n",
      ".\n"
     ]
    }
   ],
   "source": [
    "for i in cumle:\n",
    "    if i == \"a\":\n",
    "        print(\"A\")\n",
    "    else:\n",
    "        print(i)\n",
    "print(i)"
   ]
  },
  {
   "cell_type": "code",
   "execution_count": 63,
   "metadata": {},
   "outputs": [
    {
     "name": "stdout",
     "output_type": "stream",
     "text": [
      "O\n",
      " \n",
      "z\n",
      "A\n",
      "m\n",
      "A\n",
      "n\n",
      " \n",
      "b\n",
      "A\n",
      "ş\n",
      "k\n",
      "A\n",
      " \n",
      "b\n",
      "i\n",
      "r\n",
      " \n",
      "g\n",
      "ü\n",
      "n\n",
      " \n",
      "b\n",
      "u\n",
      "l\n",
      "u\n",
      "ş\n",
      "A\n",
      "l\n",
      "ı\n",
      "m\n",
      ".\n",
      ".\n"
     ]
    }
   ],
   "source": [
    "def a_upper(x):\n",
    "    for i in cumle:\n",
    "        if i == \"a\":\n",
    "            print(\"A\")\n",
    "        else:\n",
    "            print(i)\n",
    "    print(i)\n",
    "a_upper(cumle)"
   ]
  }
 ],
 "metadata": {
  "kernelspec": {
   "display_name": "Python 3",
   "language": "python",
   "name": "python3"
  },
  "language_info": {
   "codemirror_mode": {
    "name": "ipython",
    "version": 3
   },
   "file_extension": ".py",
   "mimetype": "text/x-python",
   "name": "python",
   "nbconvert_exporter": "python",
   "pygments_lexer": "ipython3",
   "version": "3.7.4"
  }
 },
 "nbformat": 4,
 "nbformat_minor": 2
}
